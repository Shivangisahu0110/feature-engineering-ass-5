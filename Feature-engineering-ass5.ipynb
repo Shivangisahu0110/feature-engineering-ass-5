{
 "cells": [
  {
   "cell_type": "markdown",
   "id": "b424a6af-0da9-4c02-bba6-48319b7b1a6e",
   "metadata": {},
   "source": [
    "Q1. Pearson correlation coefficient is a measure of the linear relationship between two variables. Suppose\n",
    "you have collected data on the amount of time students spend studying for an exam and their final exam\n",
    "scores. Calculate the Pearson correlation coefficient between these two variables and interpret the result."
   ]
  },
  {
   "cell_type": "markdown",
   "id": "95329dd4-2d41-4162-896d-0e4517e88a4a",
   "metadata": {},
   "source": [
    "To calculate the Pearson correlation coefficient between the amount of time students spend studying for an exam and their final exam scores, you first need to gather the data for both variables. Let's denote the amount of time spent studying as variable X and the final exam scores as variable Y.\n",
    "\n",
    "Once you have the data, follow these steps:\n",
    "\n",
    "Calculate the mean (Xˉ) and standard deviation (sX) of the study time variable (X).\n",
    "\n",
    "Calculate the mean (Yˉ) and standard deviation (sY) of the exam scores variable (Y).\n",
    "\n",
    "Compute the covariance cov(X,Y)) between the study time and exam scores.\n",
    "\n",
    "Use the formula for the Pearson correlation coefficient:\n",
    " \n",
    "    r = cov(X,Y)/sx * sY\n",
    "\n",
    "where \n",
    "\n",
    "r is the Pearson correlation coefficient.\n",
    "\n",
    "After calculating r, interpret the result as follows:\n",
    "\n",
    "If r is close to 1, it indicates a strong positive linear relationship, meaning as study time increases, exam scores tend to increase.\n",
    "\n",
    "If r is close to -1, it indicates a strong negative linear relationship, meaning as study time increases, exam scores tend to decrease.\n",
    "\n",
    "If r is close to 0, it indicates a weak or no linear relationship between the two variables.\n",
    "Remember, correlation does not imply causation. Even if a strong correlation is found, it doesn't necessarily mean that studying more causes higher exam scores or vice versa. Other factors could be at play."
   ]
  },
  {
   "cell_type": "markdown",
   "id": "960e37f0-cc58-41fc-9001-33f37970a9e4",
   "metadata": {},
   "source": [
    "Q2. Spearman's rank correlation is a measure of the monotonic relationship between two variables.\n",
    "Suppose you have collected data on the amount of sleep individuals get each night and their overall job\n",
    "satisfaction level on a scale of 1 to 10. Calculate the Spearman's rank correlation between these two\n",
    "variables and interpret the result."
   ]
  },
  {
   "cell_type": "markdown",
   "id": "01807c44-1a60-48cc-abda-0a79104df4d5",
   "metadata": {},
   "source": [
    "Data Collection: Gather the data for both variables - the amount of sleep (in hours) and the corresponding job satisfaction ratings (on a scale of 1 to 10) for each individual.\n",
    "\n",
    "Ranking:\n",
    "\n",
    "Rank the sleep data and the job satisfaction data separately. Assign ranks based on the values, where the smallest value gets the lowest rank (1), the next smallest value gets the next rank, and so on.\n",
    "\n",
    "Calculate Differences in Ranks:\n",
    "\n",
    "For each individual, calculate the difference (di) between their ranks in the sleep data (X) and job satisfaction data (Y).\n",
    "\n",
    "di =rank of sleep hours for individual i−rank of job satisfaction for individual i\n",
    "\n",
    "Square the Differences:\n",
    "\n",
    "Square each di value to get (di)^2 .\n",
    "\n",
    "Summation:\n",
    "\n",
    "Calculate the sum of di2 for all individuals. Let's denote this as ∑(di)^2\n",
    "\n",
    "Use Spearman's Rank Correlation Formula:\n",
    "\n",
    "    Use the formula to calculate Spearman's rank correlation coefficient (ρ):\n",
    "    \n",
    "    ρ = 1− 6∑(d)^2/n(n^2-1)\n",
    "    where n is the number of individuals (or data points).\n",
    " "
   ]
  },
  {
   "cell_type": "markdown",
   "id": "6b6b42f0-9a41-458c-8ee9-e48a50d649b6",
   "metadata": {},
   "source": [
    "Q3. Suppose you are conducting a study to examine the relationship between the number of hours of\n",
    "exercise per week and body mass index (BMI) in a sample of adults. You collected data on both variables\n",
    "for 50 participants. Calculate the Pearson correlation coefficient and the Spearman's rank correlation\n",
    "between these two variables and compare the results."
   ]
  },
  {
   "cell_type": "markdown",
   "id": "fd4a68a6-b1e7-4d16-99a2-346112806920",
   "metadata": {},
   "source": [
    "Use Spearman's Rank Correlation Formula:\n",
    "\n",
    "    Use the formula to calculate Spearman's rank correlation coefficient (ρ):\n",
    "    \n",
    "    ρ = 1− 6∑(d)^2/n(n^2-1)\n",
    "    where n is the number of individuals (or data points).\n",
    "    \n",
    "Interpret the value of \n",
    "\n",
    "ρ close to 1 or -1 indicates a strong monotonic relationship (the ranks of exercise hours and BMI move consistently together).\n",
    "\n",
    "ρ close to 0 indicates a weak or no monotonic relationship.\n",
    " \n",
    "Step 4: Compare the Results\n",
    "\n",
    "Compare the values of r and ρ obtained from your calculations.\n",
    "\n",
    "If r and ρ are similar in magnitude and sign, it suggests a strong linear relationship between exercise hours and BMI.\n",
    "\n",
    "If ρ is substantially different from r, it indicates a nonlinear relationship or the presence of outliers or influential data points affecting the linear relationship.\n",
    "\n",
    "Example Interpretation:\n",
    "\n",
    "Suppose \n",
    "\n",
    "r=−0.65 and ρ=−0.55.\n",
    "\n",
    "This suggests a moderate negative linear relationship between exercise hours and BMI, with a slightly weaker monotonic relationship when considering ranks.\n",
    "\n",
    "By calculating both Pearson and Spearman correlations, you gain insights into both linear and monotonic relationships between exercise hours and BMI, which can provide a more comprehensive understanding of their association in your study sample.\n"
   ]
  },
  {
   "cell_type": "markdown",
   "id": "7ef1e3b6-e984-4871-aebc-5809b8a7e690",
   "metadata": {},
   "source": [
    "Q4. A researcher is interested in examining the relationship between the number of hours individuals\n",
    "spend watching television per day and their level of physical activity. The researcher collected data on\n",
    "both variables from a sample of 50 participants. Calculate the Pearson correlation coefficient between\n",
    "these two variables."
   ]
  },
  {
   "cell_type": "code",
   "execution_count": null,
   "id": "e36a455a-2713-4c98-ad72-488161a4f76b",
   "metadata": {},
   "outputs": [],
   "source": [
    "Step 1: Data Collection\n",
    "\n",
    "Step 2: Compute the Mean and Standard Deviation\n",
    "\n",
    "Step 3: Compute the Covariance"
   ]
  },
  {
   "attachments": {
    "7d5c22d2-ff37-43d3-9896-74f24cbc4943.png": {
     "image/png": "[encoded data removed]"
    }
   },
   "cell_type": "markdown",
   "id": "84ad8665-aced-4b9d-9ab4-730b609461d5",
   "metadata": {},
   "source": [
    "![image.png](attachment:7d5c22d2-ff37-43d3-9896-74f24cbc4943.png)"
   ]
  },
  {
   "cell_type": "markdown",
   "id": "3a2b50d9-d9cf-4e3e-a33e-ef77df11737b",
   "metadata": {},
   "source": [
    "Step 4: Compute the Pearson Correlation Coefficient (r)\n",
    "\n",
    "    r = cov(X,Y)/sx * sY\n",
    "    \n",
    "Step 5: Interpret the Result\n",
    "\n"
   ]
  },
  {
   "cell_type": "code",
   "execution_count": 6,
   "id": "c6a40e33-1ecd-46ad-9ab4-d8172d4cf280",
   "metadata": {},
   "outputs": [
    {
     "name": "stdout",
     "output_type": "stream",
     "text": [
      "Pearson correlation coefficient (r): -0.2972524958403376\n"
     ]
    }
   ],
   "source": [
    "import numpy as np\n",
    "\n",
    "# Hypothetical data\n",
    "X = np.array([3, 2, 4, 1, 2, 3, 5, 2, 1, 4])  # Hours of TV watching per day\n",
    "Y = np.array([2, 4, 1, 3, 2, 4, 1, 3, 2, 4])  # Level of physical activity\n",
    "\n",
    "# Calculate mean and standard deviation\n",
    "mean_X = np.mean(X)\n",
    "std_X = np.std(X, ddof=1)  # ddof=1 for sample standard deviation\n",
    "mean_Y = np.mean(Y)\n",
    "std_Y = np.std(Y, ddof=1)\n",
    "\n",
    "# Calculate covariance\n",
    "cov_XY = np.cov(X, Y, ddof=1)[0, 1]\n",
    "\n",
    "# Calculate Pearson correlation coefficient (r)\n",
    "r = cov_XY / (std_X * std_Y)\n",
    "\n",
    "print(\"Pearson correlation coefficient (r):\", r)\n"
   ]
  },
  {
   "cell_type": "markdown",
   "id": "65ebe53c-b4ae-42cd-9fb3-8821fcff26b0",
   "metadata": {},
   "source": [
    "Q5. A survey was conducted to examine the relationship between age and preference for a particular\n",
    "brand of soft drink. The survey results are shown below:"
   ]
  },
  {
   "cell_type": "markdown",
   "id": "bc305cf2-d8c8-4a87-b31b-10f3fb6a1a3d",
   "metadata": {},
   "source": [
    "Age(Years)\n",
    "25 \n",
    "42 \n",
    "37\n",
    "19\n",
    "31\n",
    "28\n",
    "\n",
    "Soft drink Preference\n",
    "\n",
    "Coke\n",
    "Pepsi\n",
    "Mountain dew\n",
    "Coke\n",
    "Pepsi\n",
    "Coke"
   ]
  },
  {
   "cell_type": "markdown",
   "id": "13d9db8c-cd76-45b5-bc14-cb670cdd3281",
   "metadata": {},
   "source": [
    "Step 1: Assign Numeric Values to Soft Drink Preferences\n",
    "\n",
    "Coke, Pepsi, Mountain Dew, Coke, Pepsi, Coke\n",
    "Corresponding numeric values: 1, 2, 3, 1, 2, 1\n",
    "\n",
    "Step 2: Calculate the Pearson Correlation Coefficient\n",
    "\n",
    " \n",
    "Age (X)       \n",
    "25                  \n",
    "42                  \n",
    "37                  \n",
    "19                  \n",
    "31                  \n",
    "28         \n",
    "\n",
    " Soft Drink Preference (Y)\n",
    " 1\n",
    " 2\n",
    " 3\n",
    " 1\n",
    " 2\n",
    " 1\n",
    "\n",
    "\n",
    "Step 3: Calculate the Pearson Correlation Coefficient (r)\n",
    "\n",
    " Calculate Mean (Xˉ ) and Standard Deviation (sX) of Age (X):\n",
    " \n",
    "  Xˉ = 25+42+37+19+31+28 /6 = 182/6 = 30.33\n",
    "  \n",
    " To calculate sX , use the formula:\n",
    "\n",
    " sX = root(∑(Xi - Xˉ)^2 / n)\n",
    " = sqrt ((25-30.33)^2 + (42−30.33)^2 + (37-30.33)^2 + (19−30.33)^2 + (31-30.33)^2 + (28−30.33)^2) / 6\n",
    " = 7.565\n",
    "\n",
    "2. Calculate Mean (Yˉ ) and Standard Deviation (sY ) of Soft Drink Preference (Y):\n",
    "\n",
    "Values of Y:1,2,3,1,2,1\n",
    "  To calculate sY , use the formula:\n",
    "  sY = root(∑(Yi - Yˉ)^2 / n)\n",
    " = sqrt ((1-1.67)^2 + (2−1.67)^2 + (3-1.67)^2 + (1−1.67)^2 + (2-1.67)^2 + (1−1.67)^2) / 6\n",
    " = 0.7453\n",
    " \n",
    "3. Calculate Covariance cov(X,Y)):\n",
    "\n",
    "cov(X,Y) = (∑(Xi - Xˉ)(Yi - Yˉ) / n\n",
    "\n",
    "cov(X,Y) = (25-30.33) (1-1.67) + (42−30.33)(2−1.67) + (37-30.33)(3−1.67) + (19−30.33)(1−1.67) + (31-30.33)(2−1.67) + (28−30.33)(1−1.67)) / 6\n",
    "\n",
    "cov(X,Y) = 25.65 / 6 = 4.275\n",
    "\n",
    "4. Calculate Pearson Correlation Coefficient (r):\n",
    "\n",
    " r = (cov(X,Y) / sX * sY)\n",
    " r = 4.275 / 5.639\n",
    " \n"
   ]
  },
  {
   "cell_type": "code",
   "execution_count": null,
   "id": "d094824b-8fbb-4e3b-97a5-129022ea53d9",
   "metadata": {},
   "outputs": [],
   "source": []
  }
 ],
 "metadata": {
  "kernelspec": {
   "display_name": "Python 3 (ipykernel)",
   "language": "python",
   "name": "python3"
  },
  "language_info": {
   "codemirror_mode": {
    "name": "ipython",
    "version": 3
   },
   "file_extension": ".py",
   "mimetype": "text/x-python",
   "name": "python",
   "nbconvert_exporter": "python",
   "pygments_lexer": "ipython3",
   "version": "3.10.8"
  }
 },
 "nbformat": 4,
 "nbformat_minor": 5
}
